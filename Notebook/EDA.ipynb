import pandas as pd
import streamlit as st
import plotly.express as px

data = pd.read_csv('../vehicles_us.csv')
data.info()
data.head()

data.duplicated().sum()

data['cylinders'] = data['cylinders'].fillna(0).astype(int)
data['is_4wd'] = data['is_4wd'].fillna(0).astype(int)
data['odometer'] = data['odometer'].fillna(0).astype(int)

data.head(15)

st.header=("Exploratory Data Analysis of Car Advertisements") 
st.header

different_models = px.histogram(data, x="model")
different_models
#Showing the most purchased models

different_colors = px.histogram(data, x="type")
different_colors
#Showing the most purchased color 

model_and_condition = data.groupby(['model','type'])['model'].count()
model_and_condition
#Showing what type of car the model represents and how many there are in the dataset. 

fig = px.scatter(data,x='price',y='days_listed')
fig.show()
# Based on this data it shows majority of the cars are below 50. Although, analyzing this data it provides us a good idea on how the amount of days listed does not necessarily affect the value of the vehicle. 
